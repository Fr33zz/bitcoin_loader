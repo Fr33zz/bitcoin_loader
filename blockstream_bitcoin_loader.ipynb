{
 "cells": [
  {
   "cell_type": "code",
   "execution_count": 1,
   "outputs": [],
   "source": [
    "import requests\n",
    "import json\n",
    "import datetime\n",
    "\n",
    "class BlockstreamAPI:\n",
    "    def __init__(self, base_url=\"https://blockstream.info/api\"):\n",
    "        self.base_url = base_url\n",
    "\n",
    "    # Blocks\n",
    "    def get_block(self, block_hash):\n",
    "        url = f\"{self.base_url}/block/{block_hash}\"\n",
    "        return self._make_request(url)\n",
    "\n",
    "    def get_block_header(self, block_hash):\n",
    "        url = f\"{self.base_url}/block/{block_hash}/header\"\n",
    "        return self._make_request(url)\n",
    "\n",
    "    def get_block_status(self, block_hash):\n",
    "        url = f\"{self.base_url}/block/{block_hash}/status\"\n",
    "        return self._make_request(url)\n",
    "\n",
    "    def get_block_transactions(self, block_hash, start_index=0):\n",
    "        url = f\"{self.base_url}/block/{block_hash}/txs/{start_index}\"\n",
    "        return self._make_request(url)\n",
    "\n",
    "    def get_block_txids(self, block_hash):\n",
    "        url = f\"{self.base_url}/block/{block_hash}/txids\"\n",
    "        return self._make_request(url)\n",
    "\n",
    "    def get_block_txid_at_index(self, block_hash, index):\n",
    "        url = f\"{self.base_url}/block/{block_hash}/txid/{index}\"\n",
    "        return self._make_request(url)\n",
    "\n",
    "    def get_block_raw(self, block_hash):\n",
    "        url = f\"{self.base_url}/block/{block_hash}/raw\"\n",
    "        return self._make_request(url)\n",
    "\n",
    "    def get_block_hash_by_height(self, height):\n",
    "        url = f\"{self.base_url}/block-height/{height}\"\n",
    "        return self._make_request(url).decode('utf-8')\n",
    "\n",
    "    def get_latest_blocks(self, start_height=None):\n",
    "        url = f\"{self.base_url}/blocks\"\n",
    "        if start_height is not None:\n",
    "            url = f\"{self.base_url}/blocks/{start_height}\"\n",
    "        return self._make_request(url)\n",
    "\n",
    "    def get_latest_block_height(self):\n",
    "        url = f\"{self.base_url}/blocks/tip/height\"\n",
    "        return self._make_request(url)\n",
    "\n",
    "    def get_latest_block_hash(self):\n",
    "        url = f\"{self.base_url}/blocks/tip/hash\"\n",
    "        return self._make_request(url)\n",
    "\n",
    "    def get_block_info_by_height(self, height):\n",
    "        block_hash = self.get_block_hash_by_height(height)\n",
    "        return self.get_block(block_hash)\n",
    "\n",
    "        # Txs\n",
    "    def get_transaction(self, txid):\n",
    "        url = f\"{self.base_url}/tx/{txid}\"\n",
    "        return self._make_request(url)\n",
    "\n",
    "    def get_transaction_status(self, txid):\n",
    "        url = f\"{self.base_url}/tx/{txid}/status\"\n",
    "        return self._make_request(url)\n",
    "\n",
    "    def get_transaction_hex(self, txid):\n",
    "        url = f\"{self.base_url}/tx/{txid}/hex\"\n",
    "        return self._make_request(url)\n",
    "\n",
    "    def get_transaction_raw(self, txid):\n",
    "        url = f\"{self.base_url}/tx/{txid}/raw\"\n",
    "        return self._make_request(url)\n",
    "\n",
    "    def get_transaction_merkleblock_proof(self, txid):\n",
    "        url = f\"{self.base_url}/tx/{txid}/merkleblock-proof\"\n",
    "        return self._make_request(url)\n",
    "\n",
    "    def get_transaction_merkle_proof(self, txid):\n",
    "        url = f\"{self.base_url}/tx/{txid}/merkle-proof\"\n",
    "        return self._make_request(url)\n",
    "\n",
    "    def get_transaction_outspend(self, txid, vout):\n",
    "        url = f\"{self.base_url}/tx/{txid}/outspend/{vout}\"\n",
    "        return self._make_request(url)\n",
    "\n",
    "    def get_transaction_outspends(self, txid):\n",
    "        url = f\"{self.base_url}/tx/{txid}/outspends\"\n",
    "        return self._make_request(url)\n",
    "\n",
    "    def _make_request(self, url):\n",
    "        response = requests.get(url)\n",
    "\n",
    "        if response.status_code == 200:\n",
    "            try:\n",
    "                return json.loads(response.content)\n",
    "            except:\n",
    "                # print(f\"Json decode error in {response.headers}.\")\n",
    "                return response.content\n",
    "        else:\n",
    "            response.raise_for_status()"
   ],
   "metadata": {
    "collapsed": false
   }
  },
  {
   "cell_type": "code",
   "execution_count": 2,
   "outputs": [],
   "source": [
    "api = BlockstreamAPI()"
   ],
   "metadata": {
    "collapsed": false
   }
  },
  {
   "cell_type": "code",
   "execution_count": 3,
   "outputs": [
    {
     "name": "stdout",
     "output_type": "stream",
     "text": [
      "bheight 845352\n",
      "bhash 00000000000000000000b2831ae9df554fff116c68e035140946d75d1f81b7da\n"
     ]
    }
   ],
   "source": [
    "bheight = api.get_latest_block_height()\n",
    "print(\"bheight\", bheight)\n",
    "bhash = api.get_block_hash_by_height(bheight)\n",
    "print(\"bhash\", bhash)"
   ],
   "metadata": {
    "collapsed": false
   }
  },
  {
   "cell_type": "code",
   "execution_count": 4,
   "outputs": [],
   "source": [
    "def ts_to_datetime(ts):\n",
    "    return datetime.datetime.utcfromtimestamp(ts)\n",
    "\n",
    "def block_info_to_datetime(block_info):\n",
    "    return ts_to_datetime(block_info['timestamp'])"
   ],
   "metadata": {
    "collapsed": false
   }
  },
  {
   "cell_type": "code",
   "execution_count": 5,
   "outputs": [],
   "source": [
    "def binary_search(getfn, target, left, right):\n",
    "    while right - left > 1:\n",
    "        middle = (left + right) // 2\n",
    "        if getfn(middle) >= target:\n",
    "            right = middle\n",
    "        else:\n",
    "            left = middle\n",
    "    return left"
   ],
   "metadata": {
    "collapsed": false
   }
  },
  {
   "cell_type": "code",
   "execution_count": 6,
   "outputs": [
    {
     "name": "stdout",
     "output_type": "stream",
     "text": [
      "0 1\n",
      "1 3\n",
      "2 5\n",
      "3 7\n",
      "4 9\n",
      "5 11\n",
      "6 13\n",
      "7 15\n",
      "binary_search(getarr, 9, 0, 8) 3\n"
     ]
    }
   ],
   "source": [
    "arr = [1, 3, 5, 7, 9, 11, 13, 15]\n",
    "def getarr(i):\n",
    "    return arr[i]\n",
    "target = 9\n",
    "for i, e in enumerate(arr):\n",
    "    print(i, e)\n",
    "\n",
    "print(f\"binary_search(getarr, {target}, 0, {len(arr)})\", binary_search(getarr, target, 0, len(arr)))"
   ],
   "metadata": {
    "collapsed": false
   }
  },
  {
   "cell_type": "code",
   "execution_count": 7,
   "outputs": [],
   "source": [
    "dt_start = datetime.datetime(2024, 3, 13, 22, 59, 0)\n",
    "dt_end = datetime.datetime(2024, 3, 18, 18, 34, 0)"
   ],
   "metadata": {
    "collapsed": false
   }
  },
  {
   "cell_type": "code",
   "execution_count": 8,
   "outputs": [],
   "source": [
    "def block_date_by_height(height):\n",
    "    return block_info_to_datetime(api.get_block_info_by_height(height))"
   ],
   "metadata": {
    "collapsed": false
   }
  },
  {
   "cell_type": "code",
   "execution_count": 9,
   "outputs": [
    {
     "name": "stdout",
     "output_type": "stream",
     "text": [
      "2024-02-11 18:17:37\n",
      "2024-04-20 00:09:27\n"
     ]
    }
   ],
   "source": [
    "search_start = 830000\n",
    "search_end = 840000\n",
    "print(block_date_by_height(search_start))\n",
    "print(block_date_by_height(search_end))"
   ],
   "metadata": {
    "collapsed": false
   }
  },
  {
   "cell_type": "code",
   "execution_count": 10,
   "outputs": [
    {
     "data": {
      "text/plain": "834577"
     },
     "execution_count": 10,
     "metadata": {},
     "output_type": "execute_result"
    }
   ],
   "source": [
    "start_block = binary_search(block_date_by_height, dt_start, search_start, search_end)\n",
    "start_block"
   ],
   "metadata": {
    "collapsed": false
   }
  },
  {
   "cell_type": "code",
   "execution_count": 11,
   "outputs": [
    {
     "data": {
      "text/plain": "835257"
     },
     "execution_count": 11,
     "metadata": {},
     "output_type": "execute_result"
    }
   ],
   "source": [
    "end_block = binary_search(block_date_by_height, dt_end, search_start, search_end)\n",
    "end_block = end_block + 1\n",
    "end_block"
   ],
   "metadata": {
    "collapsed": false
   }
  },
  {
   "cell_type": "code",
   "execution_count": 12,
   "outputs": [
    {
     "data": {
      "text/plain": "680"
     },
     "execution_count": 12,
     "metadata": {},
     "output_type": "execute_result"
    }
   ],
   "source": [
    "end_block - start_block"
   ],
   "metadata": {
    "collapsed": false
   }
  },
  {
   "cell_type": "code",
   "execution_count": 13,
   "outputs": [
    {
     "name": "stdout",
     "output_type": "stream",
     "text": [
      "2024-03-13 22:40:42\n",
      "2024-03-18 18:36:42\n"
     ]
    }
   ],
   "source": [
    "print(block_date_by_height(start_block))\n",
    "print(block_date_by_height(end_block))"
   ],
   "metadata": {
    "collapsed": false
   }
  },
  {
   "cell_type": "code",
   "execution_count": 25,
   "outputs": [],
   "source": [
    "import time\n",
    "\n",
    "def timing_decorator(func):\n",
    "    def wrapper(*args, **kwargs):\n",
    "        start_time = time.time()\n",
    "        result = func(*args, **kwargs)\n",
    "        end_time = time.time()\n",
    "        execution_time = end_time - start_time\n",
    "        print(f\"Время выполнения функции '{func.__name__}': {execution_time:.6f} секунд\")\n",
    "        print(f\"Аргументы: args={args}, kwargs={kwargs}\")\n",
    "        return result\n",
    "    return wrapper"
   ],
   "metadata": {
    "collapsed": false
   }
  },
  {
   "cell_type": "code",
   "execution_count": 26,
   "outputs": [],
   "source": [
    "@timing_decorator\n",
    "def get_block_txs(api, block_number):\n",
    "    txs = []\n",
    "    block_info = api.get_block_info_by_height(block_number)\n",
    "    block_hash = block_info['id']\n",
    "    tx_count = block_info['tx_count']\n",
    "    for ind in range(0, tx_count, 25):\n",
    "        txs.extend(api.get_block_transactions(block_hash, ind))\n",
    "    return txs"
   ],
   "metadata": {
    "collapsed": false
   }
  },
  {
   "cell_type": "code",
   "execution_count": 27,
   "outputs": [
    {
     "name": "stdout",
     "output_type": "stream",
     "text": [
      "Время выполнения функции 'get_block_txs': 88.597114 секунд\n",
      "Аргументы: args=(<__main__.BlockstreamAPI object at 0x70f09d7c01f0>, 834577), kwargs={}\n"
     ]
    }
   ],
   "source": [
    "start_block_txs = get_block_txs(api, start_block)"
   ],
   "metadata": {
    "collapsed": false
   }
  },
  {
   "cell_type": "code",
   "execution_count": 28,
   "outputs": [
    {
     "data": {
      "text/plain": "1362"
     },
     "execution_count": 28,
     "metadata": {},
     "output_type": "execute_result"
    }
   ],
   "source": [
    "len(start_block_txs)"
   ],
   "metadata": {
    "collapsed": false
   }
  },
  {
   "cell_type": "code",
   "execution_count": 31,
   "outputs": [],
   "source": [
    "import pandas as pd\n",
    "df = pd.DataFrame(start_block_txs)\n",
    "df.to_csv('blockstream_block_834577_txs.csv', index=False)"
   ],
   "metadata": {
    "collapsed": false
   }
  },
  {
   "cell_type": "code",
   "execution_count": null,
   "outputs": [],
   "source": [
    "txs = []\n",
    "for bn in range(start_block, end_block):\n",
    "    txs.extend(get_block_txs(api, bn))"
   ],
   "metadata": {
    "collapsed": false
   }
  },
  {
   "cell_type": "code",
   "execution_count": null,
   "outputs": [],
   "source": [],
   "metadata": {
    "collapsed": false
   }
  }
 ],
 "metadata": {
  "kernelspec": {
   "display_name": "Python 3",
   "language": "python",
   "name": "python3"
  },
  "language_info": {
   "codemirror_mode": {
    "name": "ipython",
    "version": 2
   },
   "file_extension": ".py",
   "mimetype": "text/x-python",
   "name": "python",
   "nbconvert_exporter": "python",
   "pygments_lexer": "ipython2",
   "version": "2.7.6"
  }
 },
 "nbformat": 4,
 "nbformat_minor": 0
}

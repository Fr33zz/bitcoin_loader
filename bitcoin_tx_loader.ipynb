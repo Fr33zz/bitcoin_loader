{
 "cells": [
  {
   "cell_type": "code",
   "execution_count": 2,
   "outputs": [],
   "source": [
    "from bitcoincli import Bitcoin\n",
    "import datetime"
   ],
   "metadata": {
    "collapsed": false
   }
  },
  {
   "cell_type": "code",
   "execution_count": 90,
   "metadata": {
    "collapsed": true
   },
   "outputs": [
    {
     "name": "stdout",
     "output_type": "stream",
     "text": [
      "{'chain': 'main', 'blocks': 845355, 'headers': 845355, 'bestblockhash': '00000000000000000001ebb5f37072c22b4e3f27b70835e3271a8057440e0630', 'difficulty': 84381461788831.34, 'time': 1716802873, 'mediantime': 1716795515, 'verificationprogress': 0.9999987402328071, 'initialblockdownload': False, 'chainwork': '00000000000000000000000000000000000000007b97d581a1928b74fd57c708', 'size_on_disk': 652798159950, 'pruned': False, 'warnings': ''}\n"
     ]
    }
   ],
   "source": [
    "# creds\n",
    "\n",
    "host = \"172.33.0.2\"\n",
    "port = \"8332\"\n",
    "username = \"dappnode\"\n",
    "password = \"dappnode\"\n",
    "\n",
    "bitcoin = Bitcoin(username, password, host, port)\n",
    "\n",
    "info = bitcoin.getblockchaininfo()\n",
    "print(info)"
   ]
  },
  {
   "cell_type": "code",
   "execution_count": 91,
   "outputs": [],
   "source": [
    "def get_latest_block():\n",
    "    return bitcoin.getblockcount()"
   ],
   "metadata": {
    "collapsed": false
   }
  },
  {
   "cell_type": "code",
   "execution_count": 92,
   "outputs": [
    {
     "name": "stdout",
     "output_type": "stream",
     "text": [
      "bheight 830000\n",
      "bhash 000000000000000000011d55599ed27d7efca05f5849b755319c89eb2cffbc1f\n"
     ]
    }
   ],
   "source": [
    "bheight = 830000\n",
    "print(\"bheight\", bheight)\n",
    "bhash = bitcoin.getblockhash(bheight)\n",
    "\n",
    "print(\"bhash\", bhash)"
   ],
   "metadata": {
    "collapsed": false
   }
  },
  {
   "cell_type": "code",
   "execution_count": 93,
   "outputs": [],
   "source": [
    "def get_tx(api, txid, blockhash):\n",
    "    return api.getrawtransaction(txid, True, blockhash)"
   ],
   "metadata": {
    "collapsed": false
   }
  },
  {
   "cell_type": "code",
   "execution_count": 94,
   "outputs": [],
   "source": [
    "block_info = bitcoin.getblock(bhash)"
   ],
   "metadata": {
    "collapsed": false
   }
  },
  {
   "cell_type": "code",
   "execution_count": 95,
   "outputs": [],
   "source": [
    "txid = block_info['tx'][1]"
   ],
   "metadata": {
    "collapsed": false
   }
  },
  {
   "cell_type": "code",
   "execution_count": 96,
   "outputs": [],
   "source": [
    "txinfo = get_tx(bitcoin, txid, bhash)"
   ],
   "metadata": {
    "collapsed": false
   }
  },
  {
   "cell_type": "code",
   "execution_count": 97,
   "outputs": [],
   "source": [
    "import time\n",
    "\n",
    "def timing_decorator(func):\n",
    "    def wrapper(*args, **kwargs):\n",
    "        start_time = time.time()\n",
    "        result = func(*args, **kwargs)\n",
    "        end_time = time.time()\n",
    "        execution_time = end_time - start_time\n",
    "        print(f\"Время выполнения функции '{func.__name__}': {execution_time:.6f} секунд\")\n",
    "        print(f\"Аргументы: args={args}, kwargs={kwargs}\")\n",
    "        return result\n",
    "    return wrapper"
   ],
   "metadata": {
    "collapsed": false
   }
  },
  {
   "cell_type": "code",
   "execution_count": 98,
   "outputs": [],
   "source": [
    "def ts_to_datetime(ts):\n",
    "    return datetime.datetime.utcfromtimestamp(ts)\n",
    "\n",
    "\n",
    "def block_info_to_datetime(block_info):\n",
    "    return ts_to_datetime(block_info['time'])\n",
    "\n",
    "@timing_decorator\n",
    "def binary_search(getfn, target, left, right):\n",
    "    while right - left > 1:\n",
    "        middle = (left + right) // 2\n",
    "        if getfn(middle) >= target:\n",
    "            right = middle\n",
    "        else:\n",
    "            left = middle\n",
    "    return left"
   ],
   "metadata": {
    "collapsed": false
   }
  },
  {
   "cell_type": "code",
   "execution_count": 99,
   "outputs": [
    {
     "data": {
      "text/plain": "datetime.datetime(2024, 2, 11, 18, 17, 37)"
     },
     "execution_count": 99,
     "metadata": {},
     "output_type": "execute_result"
    }
   ],
   "source": [
    "ts_to_datetime(block_info['time'])"
   ],
   "metadata": {
    "collapsed": false
   }
  },
  {
   "cell_type": "code",
   "execution_count": null,
   "outputs": [],
   "source": [],
   "metadata": {
    "collapsed": false
   }
  },
  {
   "cell_type": "code",
   "execution_count": 100,
   "outputs": [],
   "source": [
    "dt_start = datetime.datetime(2024, 3, 13, 22, 59, 0)\n",
    "dt_end = datetime.datetime(2024, 3, 18, 18, 34, 0)"
   ],
   "metadata": {
    "collapsed": false
   }
  },
  {
   "cell_type": "code",
   "execution_count": 104,
   "outputs": [],
   "source": [
    "def get_block_by_height(api, height):\n",
    "    blockhash = api.getblockhash(height)\n",
    "    return api.getblock(blockhash)"
   ],
   "metadata": {
    "collapsed": false
   }
  },
  {
   "cell_type": "code",
   "execution_count": 105,
   "outputs": [],
   "source": [
    "def block_date_by_height(height):\n",
    "    block_info = get_block_by_height(bitcoin, height)\n",
    "    return block_info_to_datetime(block_info)"
   ],
   "metadata": {
    "collapsed": false
   }
  },
  {
   "cell_type": "code",
   "execution_count": 106,
   "outputs": [
    {
     "name": "stdout",
     "output_type": "stream",
     "text": [
      "2024-02-11 18:17:37\n",
      "2024-04-20 00:09:27\n"
     ]
    }
   ],
   "source": [
    "search_start = 830000\n",
    "search_end = 840000\n",
    "print(block_date_by_height(search_start))\n",
    "print(block_date_by_height(search_end))"
   ],
   "metadata": {
    "collapsed": false
   }
  },
  {
   "cell_type": "code",
   "execution_count": 107,
   "outputs": [
    {
     "name": "stdout",
     "output_type": "stream",
     "text": [
      "Время выполнения функции 'binary_search': 2.179212 секунд\n",
      "Аргументы: args=(<function block_date_by_height at 0x787339cd3d00>, datetime.datetime(2024, 3, 13, 22, 59), 830000, 840000), kwargs={}\n"
     ]
    },
    {
     "data": {
      "text/plain": "834577"
     },
     "execution_count": 107,
     "metadata": {},
     "output_type": "execute_result"
    }
   ],
   "source": [
    "start_block = binary_search(block_date_by_height, dt_start, search_start, search_end)\n",
    "start_block"
   ],
   "metadata": {
    "collapsed": false
   }
  },
  {
   "cell_type": "code",
   "execution_count": 108,
   "outputs": [
    {
     "name": "stdout",
     "output_type": "stream",
     "text": [
      "Время выполнения функции 'binary_search': 2.480851 секунд\n",
      "Аргументы: args=(<function block_date_by_height at 0x787339cd3d00>, datetime.datetime(2024, 3, 18, 18, 34), 830000, 840000), kwargs={}\n"
     ]
    },
    {
     "data": {
      "text/plain": "835257"
     },
     "execution_count": 108,
     "metadata": {},
     "output_type": "execute_result"
    }
   ],
   "source": [
    "end_block = binary_search(block_date_by_height, dt_end, search_start, search_end)\n",
    "end_block = end_block + 1\n",
    "end_block"
   ],
   "metadata": {
    "collapsed": false
   }
  },
  {
   "cell_type": "code",
   "execution_count": 82,
   "outputs": [
    {
     "data": {
      "text/plain": "680"
     },
     "execution_count": 82,
     "metadata": {},
     "output_type": "execute_result"
    }
   ],
   "source": [
    "end_block - start_block"
   ],
   "metadata": {
    "collapsed": false
   }
  },
  {
   "cell_type": "code",
   "execution_count": 83,
   "outputs": [
    {
     "name": "stdout",
     "output_type": "stream",
     "text": [
      "2024-03-13 22:40:42\n",
      "2024-03-18 18:36:42\n"
     ]
    }
   ],
   "source": [
    "print(block_date_by_height(start_block))\n",
    "print(block_date_by_height(end_block))"
   ],
   "metadata": {
    "collapsed": false
   }
  },
  {
   "cell_type": "code",
   "execution_count": 109,
   "outputs": [
    {
     "data": {
      "text/plain": "dict_keys(['hash', 'confirmations', 'height', 'version', 'versionHex', 'merkleroot', 'time', 'mediantime', 'nonce', 'bits', 'difficulty', 'chainwork', 'nTx', 'previousblockhash', 'nextblockhash', 'strippedsize', 'size', 'weight', 'tx'])"
     },
     "execution_count": 109,
     "metadata": {},
     "output_type": "execute_result"
    }
   ],
   "source": [
    "block_info.keys()"
   ],
   "metadata": {
    "collapsed": false
   }
  },
  {
   "cell_type": "code",
   "execution_count": 110,
   "outputs": [],
   "source": [
    "@timing_decorator\n",
    "def get_block_txs(height):\n",
    "    txs = []\n",
    "    block_info = get_block_by_height(bitcoin, height)\n",
    "    block_hash = block_info['hash']\n",
    "    block_txs = block_info['tx']\n",
    "    for txid in block_txs:\n",
    "        txs.append(get_tx(bitcoin, txid, block_hash))\n",
    "    return txs"
   ],
   "metadata": {
    "collapsed": false
   }
  },
  {
   "cell_type": "code",
   "execution_count": 114,
   "outputs": [
    {
     "name": "stdout",
     "output_type": "stream",
     "text": [
      "Время выполнения функции 'get_block_txs': 69.699919 секунд\n",
      "Аргументы: args=(834577,), kwargs={}\n"
     ]
    }
   ],
   "source": [
    "start_block_txs = get_block_txs(start_block)"
   ],
   "metadata": {
    "collapsed": false
   }
  },
  {
   "cell_type": "code",
   "execution_count": null,
   "outputs": [],
   "source": [
    "txs = []\n",
    "for bn in range(start_block, end_block):\n",
    "    txs.extend(get_block_txs(bn))"
   ],
   "metadata": {
    "collapsed": false
   }
  }
 ],
 "metadata": {
  "kernelspec": {
   "display_name": "Python 3",
   "language": "python",
   "name": "python3"
  },
  "language_info": {
   "codemirror_mode": {
    "name": "ipython",
    "version": 2
   },
   "file_extension": ".py",
   "mimetype": "text/x-python",
   "name": "python",
   "nbconvert_exporter": "python",
   "pygments_lexer": "ipython2",
   "version": "2.7.6"
  }
 },
 "nbformat": 4,
 "nbformat_minor": 0
}

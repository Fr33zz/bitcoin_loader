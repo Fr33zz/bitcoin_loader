{
 "cells": [
  {
   "cell_type": "code",
   "execution_count": 1,
   "outputs": [],
   "source": [
    "from bitcoincli import Bitcoin\n",
    "import datetime\n",
    "import pandas as pd"
   ],
   "metadata": {
    "collapsed": false
   }
  },
  {
   "cell_type": "code",
   "execution_count": 2,
   "metadata": {
    "collapsed": true
   },
   "outputs": [
    {
     "name": "stdout",
     "output_type": "stream",
     "text": [
      "{'chain': 'main', 'blocks': 845404, 'headers': 845404, 'bestblockhash': '000000000000000000022eff93bc98b5c60c6c28f19f4c011ade45ce3fca9169', 'difficulty': 84381461788831.34, 'time': 1716835391, 'mediantime': 1716830061, 'verificationprogress': 0.9999957303936676, 'initialblockdownload': False, 'chainwork': '00000000000000000000000000000000000000007ba6860b3bd4fc36f3c9823e', 'size_on_disk': 652887916389, 'pruned': False, 'warnings': ''}\n"
     ]
    }
   ],
   "source": [
    "# creds\n",
    "\n",
    "host = \"172.33.0.2\"\n",
    "port = \"8332\"\n",
    "username = \"dappnode\"\n",
    "password = \"dappnode\"\n",
    "\n",
    "bitcoin = Bitcoin(username, password, host, port)\n",
    "\n",
    "info = bitcoin.getblockchaininfo()\n",
    "print(info)"
   ]
  },
  {
   "cell_type": "code",
   "execution_count": 3,
   "outputs": [],
   "source": [
    "def get_latest_block():\n",
    "    return bitcoin.getblockcount()"
   ],
   "metadata": {
    "collapsed": false
   }
  },
  {
   "cell_type": "code",
   "execution_count": 4,
   "outputs": [
    {
     "name": "stdout",
     "output_type": "stream",
     "text": [
      "bheight 830000\n",
      "bhash 000000000000000000011d55599ed27d7efca05f5849b755319c89eb2cffbc1f\n"
     ]
    }
   ],
   "source": [
    "bheight = 830000\n",
    "print(\"bheight\", bheight)\n",
    "bhash = bitcoin.getblockhash(bheight)\n",
    "\n",
    "print(\"bhash\", bhash)"
   ],
   "metadata": {
    "collapsed": false
   }
  },
  {
   "cell_type": "code",
   "execution_count": 5,
   "outputs": [],
   "source": [
    "def get_tx(api, txid, blockhash):\n",
    "    return api.getrawtransaction(txid, True, blockhash)"
   ],
   "metadata": {
    "collapsed": false
   }
  },
  {
   "cell_type": "code",
   "execution_count": 6,
   "outputs": [],
   "source": [
    "block_info = bitcoin.getblock(bhash)"
   ],
   "metadata": {
    "collapsed": false
   }
  },
  {
   "cell_type": "code",
   "execution_count": 7,
   "outputs": [],
   "source": [
    "txid = block_info['tx'][1]"
   ],
   "metadata": {
    "collapsed": false
   }
  },
  {
   "cell_type": "code",
   "execution_count": 8,
   "outputs": [],
   "source": [
    "txinfo = get_tx(bitcoin, txid, bhash)"
   ],
   "metadata": {
    "collapsed": false
   }
  },
  {
   "cell_type": "code",
   "execution_count": 9,
   "outputs": [],
   "source": [
    "import time\n",
    "\n",
    "def timing_decorator(func):\n",
    "    def wrapper(*args, **kwargs):\n",
    "        start_time = time.time()\n",
    "        result = func(*args, **kwargs)\n",
    "        end_time = time.time()\n",
    "        execution_time = end_time - start_time\n",
    "        print(f\"Время выполнения функции '{func.__name__}': {execution_time:.6f} секунд\")\n",
    "        print(f\"Аргументы: args={args}, kwargs={kwargs}\")\n",
    "        return result\n",
    "    return wrapper"
   ],
   "metadata": {
    "collapsed": false
   }
  },
  {
   "cell_type": "code",
   "execution_count": 10,
   "outputs": [],
   "source": [
    "def ts_to_datetime(ts):\n",
    "    return datetime.datetime.utcfromtimestamp(ts)\n",
    "\n",
    "\n",
    "def block_info_to_datetime(block_info):\n",
    "    return ts_to_datetime(block_info['time'])\n",
    "\n",
    "@timing_decorator\n",
    "def binary_search(getfn, target, left, right):\n",
    "    while right - left > 1:\n",
    "        middle = (left + right) // 2\n",
    "        if getfn(middle) >= target:\n",
    "            right = middle\n",
    "        else:\n",
    "            left = middle\n",
    "    return left"
   ],
   "metadata": {
    "collapsed": false
   }
  },
  {
   "cell_type": "code",
   "execution_count": 11,
   "outputs": [
    {
     "data": {
      "text/plain": "datetime.datetime(2024, 2, 11, 18, 17, 37)"
     },
     "execution_count": 11,
     "metadata": {},
     "output_type": "execute_result"
    }
   ],
   "source": [
    "ts_to_datetime(block_info['time'])"
   ],
   "metadata": {
    "collapsed": false
   }
  },
  {
   "cell_type": "code",
   "execution_count": 12,
   "outputs": [],
   "source": [
    "dt_start = datetime.datetime(2024, 3, 13, 22, 59, 0)\n",
    "dt_end = datetime.datetime(2024, 3, 18, 18, 34, 0)"
   ],
   "metadata": {
    "collapsed": false
   }
  },
  {
   "cell_type": "code",
   "execution_count": 13,
   "outputs": [],
   "source": [
    "def get_block_by_height(api, height):\n",
    "    blockhash = api.getblockhash(height)\n",
    "    return api.getblock(blockhash)"
   ],
   "metadata": {
    "collapsed": false
   }
  },
  {
   "cell_type": "code",
   "execution_count": 14,
   "outputs": [],
   "source": [
    "def block_date_by_height(height):\n",
    "    block_info = get_block_by_height(bitcoin, height)\n",
    "    return block_info_to_datetime(block_info)"
   ],
   "metadata": {
    "collapsed": false
   }
  },
  {
   "cell_type": "code",
   "execution_count": 15,
   "outputs": [
    {
     "name": "stdout",
     "output_type": "stream",
     "text": [
      "2024-02-11 18:17:37\n",
      "2024-04-20 00:09:27\n"
     ]
    }
   ],
   "source": [
    "search_start = 830000\n",
    "search_end = 840000\n",
    "print(block_date_by_height(search_start))\n",
    "print(block_date_by_height(search_end))"
   ],
   "metadata": {
    "collapsed": false
   }
  },
  {
   "cell_type": "code",
   "execution_count": 16,
   "outputs": [
    {
     "name": "stdout",
     "output_type": "stream",
     "text": [
      "Время выполнения функции 'binary_search': 2.232220 секунд\n",
      "Аргументы: args=(<function block_date_by_height at 0x7f54200abeb0>, datetime.datetime(2024, 3, 13, 22, 59), 830000, 840000), kwargs={}\n"
     ]
    },
    {
     "data": {
      "text/plain": "834577"
     },
     "execution_count": 16,
     "metadata": {},
     "output_type": "execute_result"
    }
   ],
   "source": [
    "start_block = binary_search(block_date_by_height, dt_start, search_start, search_end)\n",
    "start_block"
   ],
   "metadata": {
    "collapsed": false
   }
  },
  {
   "cell_type": "code",
   "execution_count": 17,
   "outputs": [
    {
     "name": "stdout",
     "output_type": "stream",
     "text": [
      "Время выполнения функции 'binary_search': 2.369087 секунд\n",
      "Аргументы: args=(<function block_date_by_height at 0x7f54200abeb0>, datetime.datetime(2024, 3, 18, 18, 34), 830000, 840000), kwargs={}\n"
     ]
    },
    {
     "data": {
      "text/plain": "835257"
     },
     "execution_count": 17,
     "metadata": {},
     "output_type": "execute_result"
    }
   ],
   "source": [
    "end_block = binary_search(block_date_by_height, dt_end, search_start, search_end)\n",
    "end_block = end_block + 1\n",
    "end_block"
   ],
   "metadata": {
    "collapsed": false
   }
  },
  {
   "cell_type": "code",
   "execution_count": 18,
   "outputs": [
    {
     "data": {
      "text/plain": "680"
     },
     "execution_count": 18,
     "metadata": {},
     "output_type": "execute_result"
    }
   ],
   "source": [
    "end_block - start_block"
   ],
   "metadata": {
    "collapsed": false
   }
  },
  {
   "cell_type": "code",
   "execution_count": 19,
   "outputs": [
    {
     "name": "stdout",
     "output_type": "stream",
     "text": [
      "2024-03-13 22:40:42\n",
      "2024-03-18 18:36:42\n"
     ]
    }
   ],
   "source": [
    "print(block_date_by_height(start_block))\n",
    "print(block_date_by_height(end_block))"
   ],
   "metadata": {
    "collapsed": false
   }
  },
  {
   "cell_type": "code",
   "execution_count": 20,
   "outputs": [
    {
     "data": {
      "text/plain": "dict_keys(['hash', 'confirmations', 'height', 'version', 'versionHex', 'merkleroot', 'time', 'mediantime', 'nonce', 'bits', 'difficulty', 'chainwork', 'nTx', 'previousblockhash', 'nextblockhash', 'strippedsize', 'size', 'weight', 'tx'])"
     },
     "execution_count": 20,
     "metadata": {},
     "output_type": "execute_result"
    }
   ],
   "source": [
    "block_info.keys()"
   ],
   "metadata": {
    "collapsed": false
   }
  },
  {
   "cell_type": "code",
   "execution_count": 21,
   "outputs": [],
   "source": [
    "@timing_decorator\n",
    "def get_block_txs(height):\n",
    "    txs = []\n",
    "    block_info = get_block_by_height(bitcoin, height)\n",
    "    block_hash = block_info['hash']\n",
    "    block_txs = block_info['tx']\n",
    "    for txid in block_txs:\n",
    "        txs.append(get_tx(bitcoin, txid, block_hash))\n",
    "    return txs"
   ],
   "metadata": {
    "collapsed": false
   }
  },
  {
   "cell_type": "code",
   "execution_count": 22,
   "outputs": [
    {
     "name": "stdout",
     "output_type": "stream",
     "text": [
      "Время выполнения функции 'get_block_txs': 48.004380 секунд\n",
      "Аргументы: args=(834577,), kwargs={}\n"
     ]
    }
   ],
   "source": [
    "start_block_txs = get_block_txs(start_block)"
   ],
   "metadata": {
    "collapsed": false
   }
  },
  {
   "cell_type": "code",
   "execution_count": 23,
   "outputs": [
    {
     "data": {
      "text/plain": "1362"
     },
     "execution_count": 23,
     "metadata": {},
     "output_type": "execute_result"
    }
   ],
   "source": [
    "len(start_block_txs)"
   ],
   "metadata": {
    "collapsed": false
   }
  },
  {
   "cell_type": "code",
   "execution_count": 24,
   "outputs": [],
   "source": [
    "df = pd.DataFrame(start_block_txs)\n",
    "df.to_csv('rpc_block_834577_txs.csv', index=False)"
   ],
   "metadata": {
    "collapsed": false
   }
  },
  {
   "cell_type": "code",
   "execution_count": null,
   "outputs": [
    {
     "name": "stdout",
     "output_type": "stream",
     "text": [
      "Время выполнения функции 'get_block_txs': 42.791564 секунд\n",
      "Аргументы: args=(834577,), kwargs={}\n",
      "Время выполнения функции 'get_block_txs': 99.378232 секунд\n",
      "Аргументы: args=(834578,), kwargs={}\n",
      "Время выполнения функции 'get_block_txs': 69.151426 секунд\n",
      "Аргументы: args=(834579,), kwargs={}\n",
      "Время выполнения функции 'get_block_txs': 62.915584 секунд\n",
      "Аргументы: args=(834580,), kwargs={}\n",
      "Время выполнения функции 'get_block_txs': 72.019788 секунд\n",
      "Аргументы: args=(834581,), kwargs={}\n",
      "Время выполнения функции 'get_block_txs': 75.943256 секунд\n",
      "Аргументы: args=(834582,), kwargs={}\n",
      "Время выполнения функции 'get_block_txs': 74.574356 секунд\n",
      "Аргументы: args=(834583,), kwargs={}\n",
      "Время выполнения функции 'get_block_txs': 49.891699 секунд\n",
      "Аргументы: args=(834584,), kwargs={}\n",
      "Время выполнения функции 'get_block_txs': 35.135821 секунд\n",
      "Аргументы: args=(834585,), kwargs={}\n",
      "Время выполнения функции 'get_block_txs': 77.445652 секунд\n",
      "Аргументы: args=(834586,), kwargs={}\n",
      "Время выполнения функции 'get_block_txs': 49.511922 секунд\n",
      "Аргументы: args=(834587,), kwargs={}\n",
      "Время выполнения функции 'get_block_txs': 91.453432 секунд\n",
      "Аргументы: args=(834588,), kwargs={}\n",
      "Время выполнения функции 'get_block_txs': 101.905494 секунд\n",
      "Аргументы: args=(834589,), kwargs={}\n",
      "Время выполнения функции 'get_block_txs': 59.443127 секунд\n",
      "Аргументы: args=(834590,), kwargs={}\n",
      "Время выполнения функции 'get_block_txs': 87.852373 секунд\n",
      "Аргументы: args=(834591,), kwargs={}\n",
      "Время выполнения функции 'get_block_txs': 53563.741300 секунд\n",
      "Аргументы: args=(834592,), kwargs={}\n",
      "Время выполнения функции 'get_block_txs': 32.442406 секунд\n",
      "Аргументы: args=(834593,), kwargs={}\n",
      "Время выполнения функции 'get_block_txs': 82.659044 секунд\n",
      "Аргументы: args=(834594,), kwargs={}\n",
      "Время выполнения функции 'get_block_txs': 44.602591 секунд\n",
      "Аргументы: args=(834595,), kwargs={}\n",
      "Время выполнения функции 'get_block_txs': 67.495497 секунд\n",
      "Аргументы: args=(834596,), kwargs={}\n",
      "Время выполнения функции 'get_block_txs': 43.423869 секунд\n",
      "Аргументы: args=(834597,), kwargs={}\n",
      "Время выполнения функции 'get_block_txs': 111.791152 секунд\n",
      "Аргументы: args=(834598,), kwargs={}\n",
      "Время выполнения функции 'get_block_txs': 77.630454 секунд\n",
      "Аргументы: args=(834599,), kwargs={}\n",
      "Время выполнения функции 'get_block_txs': 105.215603 секунд\n",
      "Аргументы: args=(834600,), kwargs={}\n",
      "Время выполнения функции 'get_block_txs': 71.697554 секунд\n",
      "Аргументы: args=(834601,), kwargs={}\n",
      "Время выполнения функции 'get_block_txs': 54.940333 секунд\n",
      "Аргументы: args=(834602,), kwargs={}\n",
      "Время выполнения функции 'get_block_txs': 22.936975 секунд\n",
      "Аргументы: args=(834603,), kwargs={}\n",
      "Время выполнения функции 'get_block_txs': 44.167591 секунд\n",
      "Аргументы: args=(834604,), kwargs={}\n",
      "Время выполнения функции 'get_block_txs': 82.738734 секунд\n",
      "Аргументы: args=(834605,), kwargs={}\n",
      "Время выполнения функции 'get_block_txs': 53.884346 секунд\n",
      "Аргументы: args=(834606,), kwargs={}\n",
      "Время выполнения функции 'get_block_txs': 40.280418 секунд\n",
      "Аргументы: args=(834607,), kwargs={}\n",
      "Время выполнения функции 'get_block_txs': 87.687402 секунд\n",
      "Аргументы: args=(834608,), kwargs={}\n",
      "Время выполнения функции 'get_block_txs': 66.066507 секунд\n",
      "Аргументы: args=(834609,), kwargs={}\n",
      "Время выполнения функции 'get_block_txs': 93.964553 секунд\n",
      "Аргументы: args=(834610,), kwargs={}\n",
      "Время выполнения функции 'get_block_txs': 67.897385 секунд\n",
      "Аргументы: args=(834611,), kwargs={}\n",
      "Время выполнения функции 'get_block_txs': 73.347879 секунд\n",
      "Аргументы: args=(834612,), kwargs={}\n",
      "Время выполнения функции 'get_block_txs': 63.388091 секунд\n",
      "Аргументы: args=(834613,), kwargs={}\n",
      "Время выполнения функции 'get_block_txs': 73.689954 секунд\n",
      "Аргументы: args=(834614,), kwargs={}\n",
      "Время выполнения функции 'get_block_txs': 63.205087 секунд\n",
      "Аргументы: args=(834615,), kwargs={}\n"
     ]
    }
   ],
   "source": [
    "txs = []\n",
    "for bn in range(start_block, end_block):\n",
    "    txs.extend(get_block_txs(bn))\n",
    "fulldf = pd.DataFrame(txs)\n",
    "fulldf.to_csv('rpc_blocks.csv', index=False)"
   ],
   "metadata": {
    "collapsed": false,
    "pycharm": {
     "is_executing": true
    }
   }
  },
  {
   "cell_type": "code",
   "execution_count": 2,
   "outputs": [],
   "source": [
    "import pandas as pd\n",
    "fulldf = pd.read_csv('script_rpc_blocks.csv')"
   ],
   "metadata": {
    "collapsed": false
   }
  },
  {
   "cell_type": "code",
   "execution_count": 3,
   "outputs": [],
   "source": [
    "txs = fulldf.to_dict('records')"
   ],
   "metadata": {
    "collapsed": false
   }
  },
  {
   "cell_type": "code",
   "execution_count": 5,
   "outputs": [
    {
     "data": {
      "text/plain": "38580"
     },
     "execution_count": 5,
     "metadata": {},
     "output_type": "execute_result"
    }
   ],
   "source": [
    "len(txs)"
   ],
   "metadata": {
    "collapsed": false
   }
  },
  {
   "cell_type": "code",
   "execution_count": 8,
   "outputs": [
    {
     "data": {
      "text/plain": "dict_keys(['in_active_chain', 'txid', 'hash', 'version', 'size', 'vsize', 'weight', 'locktime', 'vin', 'vout', 'hex', 'blockhash', 'confirmations', 'time', 'blocktime'])"
     },
     "execution_count": 8,
     "metadata": {},
     "output_type": "execute_result"
    }
   ],
   "source": [
    "txs[0].keys()"
   ],
   "metadata": {
    "collapsed": false
   }
  },
  {
   "cell_type": "code",
   "execution_count": null,
   "outputs": [],
   "source": [],
   "metadata": {
    "collapsed": false
   }
  }
 ],
 "metadata": {
  "kernelspec": {
   "display_name": "Python 3",
   "language": "python",
   "name": "python3"
  },
  "language_info": {
   "codemirror_mode": {
    "name": "ipython",
    "version": 2
   },
   "file_extension": ".py",
   "mimetype": "text/x-python",
   "name": "python",
   "nbconvert_exporter": "python",
   "pygments_lexer": "ipython2",
   "version": "2.7.6"
  }
 },
 "nbformat": 4,
 "nbformat_minor": 0
}
